{
 "cells": [
  {
   "cell_type": "code",
   "execution_count": 1,
   "id": "cca74034",
   "metadata": {},
   "outputs": [],
   "source": [
    "import numpy as np\n",
    "import matplotlib.pyplot as pp\n",
    "import seaborn\n",
    "import zipfile\n",
    "import collections"
   ]
  },
  {
   "cell_type": "code",
   "execution_count": 2,
   "id": "cfc1e7bd",
   "metadata": {},
   "outputs": [],
   "source": [
    "zipfile.ZipFile('weather.zip').extractall('.')"
   ]
  },
  {
   "cell_type": "code",
   "execution_count": 3,
   "id": "8c862249",
   "metadata": {},
   "outputs": [],
   "source": [
    "#TASK 1"
   ]
  },
  {
   "cell_type": "code",
   "execution_count": 4,
   "id": "de2a531d",
   "metadata": {},
   "outputs": [
    {
     "name": "stdout",
     "output_type": "stream",
     "text": [
      " Volume in drive C is OS\n",
      " Volume Serial Number is 1049-DBE3\n",
      "\n",
      " Directory of C:\\Users\\Rogelio\\3753 Data Science\\project2_weather\\weather\n",
      "\n",
      "06/28/2023  05:22 PM    <DIR>          .\n",
      "06/29/2023  04:35 AM    <DIR>          ..\n",
      "07/02/2023  04:38 AM            44,303 project2.ipynb\n",
      "07/02/2023  04:38 AM            24,088 readme.txt\n",
      "07/02/2023  04:38 AM         1,711,530 RSM00030710.dly\n",
      "07/02/2023  04:38 AM         8,523,546 stations.txt\n",
      "07/02/2023  04:38 AM         4,165,020 USW00014922.dly\n",
      "07/02/2023  04:38 AM         3,692,790 USW00022536.dly\n",
      "07/02/2023  04:38 AM         3,502,710 USW00023188.dly\n",
      "07/02/2023  04:38 AM               576 weather.README\n",
      "               8 File(s)     21,664,563 bytes\n",
      "               2 Dir(s)  289,599,848,448 bytes free\n"
     ]
    }
   ],
   "source": [
    "ls weather"
   ]
  },
  {
   "cell_type": "code",
   "execution_count": 5,
   "id": "9ab0f32b",
   "metadata": {},
   "outputs": [],
   "source": [
    "%matplotlib inline"
   ]
  },
  {
   "cell_type": "code",
   "execution_count": 6,
   "id": "06b3ffe9",
   "metadata": {},
   "outputs": [],
   "source": [
    "import urllib.request\n",
    "#urllib.request.urlretrieve('ftp://ftp.ncdc.noaa.gov/pub/data/ghcnd-stations.txt', 'station.txt')"
   ]
  },
  {
   "cell_type": "code",
   "execution_count": 7,
   "id": "8ce27863",
   "metadata": {},
   "outputs": [],
   "source": [
    "stations={}\n",
    "for line in open('weather/stations.txt', 'r'):\n",
    "    if 'GSN' in line:\n",
    "        fields= line.split()\n",
    "        \n",
    "        stations[fields[0]]= ' '.join(fields[4:])"
   ]
  },
  {
   "cell_type": "code",
   "execution_count": 8,
   "id": "eb261deb",
   "metadata": {},
   "outputs": [],
   "source": [
    "def findstation(s):\n",
    "    found= {code: name for code, name in stations.items() if s in name}\n",
    "    print(found)"
   ]
  },
  {
   "cell_type": "code",
   "execution_count": 9,
   "id": "efaeb1fe",
   "metadata": {},
   "outputs": [],
   "source": [
    "def parsefile(filename):\n",
    "    return np.genfromtxt(filename,\n",
    "                         delimiter = dly_delimiter,\n",
    "                         usecols = dly_usecols,\n",
    "                         dtype = dly_dtype,\n",
    "                         names = dly_names)"
   ]
  },
  {
   "cell_type": "code",
   "execution_count": 10,
   "id": "009e9cb5",
   "metadata": {},
   "outputs": [],
   "source": [
    "dly_delimiter = [11,4,2,4] + [5,1,1,1] * 31\n",
    "dly_usecols = [1,2,3] + [4*i for i in range(1,32)]\n",
    "dly_dtype = [np.int32,np.int32,(np.str_,4)] + [np.int32] * 31\n",
    "dly_names = ['year','month','obs'] + [str(day) for day in range(1,31+1)]"
   ]
  },
  {
   "cell_type": "code",
   "execution_count": 11,
   "id": "1be39f6d",
   "metadata": {},
   "outputs": [],
   "source": [
    "minneapolis = parsefile('weather/USW00014922.dly')\n",
    "sandiego = parsefile('weather/USW00023188.dly')"
   ]
  },
  {
   "cell_type": "code",
   "execution_count": 12,
   "id": "891bfd3f",
   "metadata": {},
   "outputs": [],
   "source": [
    "def unroll(record):\n",
    "    startdate = np.datetime64('{}-{:02}'.format(record['year'],record['month']))\n",
    "    dates = np.arange(startdate,startdate + np.timedelta64(1,'M'),np.timedelta64(1,'D'))\n",
    "    \n",
    "    rows = [(date,record[str(i+1)]/10) for i,date in enumerate(dates)]\n",
    "    \n",
    "    return np.array(rows,dtype=[('date','M8[D]'),('value','d')])"
   ]
  },
  {
   "cell_type": "code",
   "execution_count": 13,
   "id": "cb40527f",
   "metadata": {},
   "outputs": [],
   "source": [
    "def getobs(filename,obs):\n",
    "    data = np.concatenate([unroll(row) for row in parsefile(filename) if row[2] == obs])\n",
    "    \n",
    "    data['value'][data['value'] == -999.9] = np.nan\n",
    "    \n",
    "    return data"
   ]
  },
  {
   "cell_type": "code",
   "execution_count": 14,
   "id": "09e06270",
   "metadata": {},
   "outputs": [],
   "source": [
    "minneapolis_tmax = getobs('weather/USW00014922.dly','TMAX')\n",
    "sandiego_tmin = getobs('weather/USW00023188.dly','TMIN')"
   ]
  },
  {
   "cell_type": "code",
   "execution_count": 15,
   "id": "35a91b27",
   "metadata": {},
   "outputs": [],
   "source": [
    "def fillnans(data):\n",
    "    dates_float = data['date'].astype(np.float64)\n",
    "    \n",
    "    nan = np.isnan(data['value'])\n",
    "    \n",
    "    data['value'][nan] = np.interp(dates_float[nan],dates_float[~nan],data['value'][~nan])"
   ]
  },
  {
   "cell_type": "code",
   "execution_count": 16,
   "id": "77826eb9",
   "metadata": {},
   "outputs": [],
   "source": [
    "fillnans(minneapolis_tmax)\n",
    "fillnans(sandiego_tmin)"
   ]
  },
  {
   "cell_type": "code",
   "execution_count": 17,
   "id": "7f4b8558",
   "metadata": {},
   "outputs": [],
   "source": [
    "def selectyear(data,year):\n",
    "    start = np.datetime64('{}'.format(year))\n",
    "    end = start + np.timedelta64(1,'Y')\n",
    "    \n",
    "    return data[(data['date'] >= start) & (data['date'] < end)]['value']"
   ]
  },
  {
   "cell_type": "code",
   "execution_count": 18,
   "id": "4e892104",
   "metadata": {},
   "outputs": [],
   "source": [
    "minneapolis_tmax_all= np.vstack([selectyear(minneapolis_tmax, year)[:365] for year in range (1940,2014+1)])\n",
    "sandiego_tmin_all= np.vstack([selectyear(sandiego_tmin, year)[:365] for year in range (1940,2014+1)])"
   ]
  },
  {
   "cell_type": "code",
   "execution_count": 19,
   "id": "471416f0",
   "metadata": {},
   "outputs": [],
   "source": [
    "#TASK 2 (a)"
   ]
  },
  {
   "cell_type": "code",
   "execution_count": 20,
   "id": "ddd40721",
   "metadata": {},
   "outputs": [
    {
     "data": {
      "text/plain": [
       "array([11.83917808, 13.82547945, 12.75561644, 11.87452055, 13.12520548,\n",
       "       11.6430137 , 13.43260274, 12.54328767, 13.36410959, 13.54219178,\n",
       "       10.8569863 , 10.44876712, 12.80109589, 13.64356164, 12.78493151,\n",
       "       12.96191781, 12.65589041, 12.49863014, 13.10438356, 12.94986301,\n",
       "       12.18849315, 12.48767123, 11.22136986, 12.85616438, 13.30027397,\n",
       "       11.0890411 , 11.89205479, 11.47780822, 12.64821918, 12.27178082,\n",
       "       12.07945205, 12.01835616, 10.28465753, 13.11643836, 12.26849315,\n",
       "       12.26465753, 13.88438356, 12.65945205, 12.21123288, 11.47726027,\n",
       "       12.87780822, 13.33589041, 12.05726027, 12.1709589 , 12.2860274 ,\n",
       "       11.75835616, 12.51917808, 15.14986301, 13.84164384, 12.12493151,\n",
       "       14.04356164, 12.83013699, 12.28273973, 11.29589041, 12.78767123,\n",
       "       12.55753425, 11.15534247, 12.08328767, 14.54383562, 14.02438356,\n",
       "       12.90739726, 13.54109589, 12.88109589, 12.93671233, 12.8539726 ,\n",
       "       13.77972603, 14.43068493, 13.70465753, 12.10739726, 12.33972603,\n",
       "       13.84465753, 13.45863014, 15.6290411 , 12.05479452, 11.15972603])"
      ]
     },
     "execution_count": 20,
     "metadata": {},
     "output_type": "execute_result"
    }
   ],
   "source": [
    "minneapolis_mean=np.mean(minneapolis_tmax_all, axis=1)\n",
    "minneapolis_mean"
   ]
  },
  {
   "cell_type": "code",
   "execution_count": 21,
   "id": "1d78efc7",
   "metadata": {},
   "outputs": [
    {
     "data": {
      "text/plain": [
       "[<matplotlib.lines.Line2D at 0x1dbf76e6980>]"
      ]
     },
     "execution_count": 21,
     "metadata": {},
     "output_type": "execute_result"
    },
    {
     "data": {
      "image/png": "[encoded data removed]",
      "text/plain": [
       "<Figure size 640x480 with 1 Axes>"
      ]
     },
     "metadata": {},
     "output_type": "display_data"
    }
   ],
   "source": [
    "year=np.arange(75)\n",
    "year=year+1940\n",
    "pp.plot(year,minneapolis_mean)"
   ]
  },
  {
   "cell_type": "code",
   "execution_count": 23,
   "id": "c16b3130",
   "metadata": {},
   "outputs": [
    {
     "data": {
      "text/plain": [
       "array([11.83917808, 13.82547945, 12.75561644, 11.87452055, 13.12520548,\n",
       "       11.6430137 , 13.43260274, 12.54328767, 13.36410959, 13.54219178,\n",
       "       10.8569863 , 10.44876712, 12.80109589, 13.64356164, 12.78493151,\n",
       "       12.96191781, 12.65589041, 12.49863014, 13.10438356, 12.94986301,\n",
       "       12.18849315, 12.48767123, 11.22136986, 12.85616438, 13.30027397,\n",
       "       11.0890411 , 11.89205479, 11.47780822, 12.64821918, 12.27178082,\n",
       "       12.07945205, 12.01835616, 10.28465753, 13.11643836, 12.26849315,\n",
       "       12.26465753, 13.88438356, 12.65945205, 12.21123288, 11.47726027,\n",
       "       12.87780822, 13.33589041, 12.05726027, 12.1709589 , 12.2860274 ,\n",
       "       11.75835616, 12.51917808, 15.14986301, 13.84164384, 12.12493151,\n",
       "       14.04356164, 12.83013699, 12.28273973, 11.29589041, 12.78767123,\n",
       "       12.55753425, 11.15534247, 12.08328767, 14.54383562, 14.02438356,\n",
       "       12.90739726, 13.54109589, 12.88109589, 12.93671233, 12.8539726 ,\n",
       "       13.77972603, 14.43068493, 13.70465753, 12.10739726, 12.33972603,\n",
       "       13.84465753, 13.45863014, 15.6290411 , 12.05479452, 11.15972603])"
      ]
     },
     "execution_count": 23,
     "metadata": {},
     "output_type": "execute_result"
    }
   ],
   "source": [
    "#TASK 2(b)\n",
    "minneapolis_mean"
   ]
  },
  {
   "cell_type": "code",
   "execution_count": null,
   "id": "60660eac",
   "metadata": {},
   "outputs": [],
   "source": [
    "minneapolis_warmest=np.argmax(minneapolis_mean)+1940\n",
    "minneapolis_warmest"
   ]
  },
  {
   "cell_type": "code",
   "execution_count": null,
   "id": "46df0f25",
   "metadata": {},
   "outputs": [],
   "source": [
    "#TASK 2(c)"
   ]
  },
  {
   "cell_type": "code",
   "execution_count": null,
   "id": "29f093d8",
   "metadata": {},
   "outputs": [],
   "source": [
    "pp.figure(figsize=(12,4))\n",
    "days=np.arange(366)\n",
    "pp.plot(days,selectyear(minneapolis_tmax,minneapolis_warmest))"
   ]
  },
  {
   "cell_type": "code",
   "execution_count": null,
   "id": "23820a3d",
   "metadata": {},
   "outputs": [],
   "source": [
    "#TASK 3(a)"
   ]
  },
  {
   "cell_type": "code",
   "execution_count": null,
   "id": "863d2341",
   "metadata": {},
   "outputs": [],
   "source": [
    "sandiego_mean=np.mean(sandiego_tmin_all, axis=1)\n",
    "sandiego_mean"
   ]
  },
  {
   "cell_type": "code",
   "execution_count": null,
   "id": "e551e03f",
   "metadata": {},
   "outputs": [],
   "source": [
    "year=np.arange(75)\n",
    "year=year+1940\n",
    "pp.plot(year,sandiego_mean)"
   ]
  },
  {
   "cell_type": "code",
   "execution_count": null,
   "id": "246886e6",
   "metadata": {},
   "outputs": [],
   "source": [
    "#TASK 3(b)"
   ]
  },
  {
   "cell_type": "code",
   "execution_count": null,
   "id": "26a065a3",
   "metadata": {},
   "outputs": [],
   "source": [
    "sandiego_coldest=np.argmin(sandiego_mean)+1940\n",
    "sandiego_coldest"
   ]
  },
  {
   "cell_type": "code",
   "execution_count": null,
   "id": "a337292f",
   "metadata": {},
   "outputs": [],
   "source": [
    "#TASK 3(c)"
   ]
  },
  {
   "cell_type": "code",
   "execution_count": null,
   "id": "30dc37a8",
   "metadata": {},
   "outputs": [],
   "source": [
    "pp.figure(figsize=(12,4))\n",
    "days=np.arange(366)\n",
    "pp.plot(days,selectyear(sandiego_tmin,sandiego_coldest))"
   ]
  },
  {
   "cell_type": "code",
   "execution_count": null,
   "id": "e4133da6",
   "metadata": {},
   "outputs": [],
   "source": [
    "pp.figure(figsize=(12,4))\n",
    "days= np.arange(1,365+1)\n",
    "pp.fill_between(days,np.min(minneapolis_tmax_all, axis=0), np.max(minneapolis_tmax_all, axis=0), alpha=0.4)\n",
    "pp.plot(selectyear(minneapolis_tmax, minneapolis_warmest), label='Minneapolis_tmax')\n",
    "\n",
    "pp.fill_between(days,np.min(sandiego_tmin_all, axis=0), np.max(sandiego_tmin_all, axis=0), alpha=0.4)\n",
    "pp.plot(selectyear(sandiego_tmin, sandiego_coldest), label='SanDiego_tmin')\n",
    "\n",
    "pp.axis(xmax=365)\n",
    "pp.legend(loc='best')"
   ]
  }
 ],
 "metadata": {
  "kernelspec": {
   "display_name": "Python 3 (ipykernel)",
   "language": "python",
   "name": "python3"
  },
  "language_info": {
   "codemirror_mode": {
    "name": "ipython",
    "version": 3
   },
   "file_extension": ".py",
   "mimetype": "text/x-python",
   "name": "python",
   "nbconvert_exporter": "python",
   "pygments_lexer": "ipython3",
   "version": "3.10.9"
  }
 },
 "nbformat": 4,
 "nbformat_minor": 5
}
